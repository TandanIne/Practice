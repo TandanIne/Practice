{
 "cells": [
  {
   "cell_type": "code",
   "execution_count": 1,
   "metadata": {},
   "outputs": [],
   "source": [
    "import warnings\n",
    "warnings.filterwarnings(\"ignore\")\n",
    "import logging\n",
    "logging.basicConfig(filename=\"Assignment6.log\",level=logging.DEBUG,format=(\"%(asctime)s -- %(levelname)s -- %(message)s\" ))"
   ]
  },
  {
   "cell_type": "code",
   "execution_count": 3,
   "metadata": {},
   "outputs": [
    {
     "name": "stdout",
     "output_type": "stream",
     "text": [
      "Fibonacci sequence:\n",
      "0\n",
      "1\n",
      "1\n",
      "2\n",
      "3\n",
      "5\n",
      "8\n",
      "13\n",
      "21\n",
      "34\n"
     ]
    }
   ],
   "source": [
    "# 1.\tWrite a Python Program to Display Fibonacci Sequence Using Recursion?\n",
    "def recur_fibo(n):\n",
    "    '''This function return the fibonacci series'''\n",
    "    try :\n",
    "        logging.info(\"This is the starting of function recur_fibo\")\n",
    "        if n <= 1:\n",
    "            logging.info(\"This is the successfull completation of function \")\n",
    "            return n\n",
    "        else:\n",
    "            logging.info(\"This is the successfull completation of function \")\n",
    "            return(recur_fibo(n-1) + recur_fibo(n-2))\n",
    "    except Exception as e:\n",
    "        print(\"Error has occured,Please check log for more messages\")\n",
    "        logging.info(\"Error has occured\")\n",
    "        logging.exception(str(e))\n",
    "        \n",
    "n = 10\n",
    "try:\n",
    "    print(\"Fibonacci sequence:\")\n",
    "    for i in range(n):\n",
    "        print(recur_fibo(i))\n",
    "except Exception as e:\n",
    "    print(\"Error has occured, Please check the log file for more information\")\n",
    "    logging.error(\"Error has occured\")\n",
    "    logging.exception(str(e))"
   ]
  },
  {
   "cell_type": "code",
   "execution_count": 12,
   "metadata": {},
   "outputs": [
    {
     "name": "stdout",
     "output_type": "stream",
     "text": [
      "Factorial of the number 10 is 3628800 \n"
     ]
    }
   ],
   "source": [
    "#2.\tWrite a Python Program to Find Factorial of Number Using Recursion?\n",
    "def fact_rec(n):\n",
    "    '''This function returns the factorial of number'''\n",
    "    try:\n",
    "        logging.info(\"This is the start of function of the fact_rec()\")\n",
    "        if (n == 1) :\n",
    "            return n\n",
    "        return (fact_rec(n-1) * n)\n",
    "    except Exception as e :\n",
    "        print(\"Exception has occured, Please check log file for more information\")\n",
    "        logging.info(\"Exception has occured during the execution\")\n",
    "        logging.exception(str(e))\n",
    "\n",
    "try:\n",
    "    n= 10\n",
    "    print(\"Factorial of the number %s is %s \"%(n,fact_rec(n)))\n",
    "except Exception as e:\n",
    "    print(\"Error has occured, Please check log file for more information \")\n",
    "    logging.error(\"Error has occured\")\n",
    "    logging.exception(str(e))\n"
   ]
  },
  {
   "cell_type": "code",
   "execution_count": 18,
   "metadata": {},
   "outputs": [
    {
     "name": "stdout",
     "output_type": "stream",
     "text": [
      "Body mass indexof the given values is 25.892374256354785\n"
     ]
    }
   ],
   "source": [
    "# 3\tWrite a Python Program to calculate your Body Mass Index?\n",
    "def bodymassindex(weight,height):\n",
    "    '''This function takes the input of height and weight and returns body mass index'''\n",
    "    try:\n",
    "        logging.info(\"This is the start of the function bodymassindex\")\n",
    "        h_2 = (height * height)/10000\n",
    "        BMI = weight / h_2\n",
    "        logging.info(\"Function BodyMassIndex has successfully completed\")\n",
    "        return BMI\n",
    "    except Exception as e:\n",
    "        print(\"Error has occured, please check the log file for more information\")\n",
    "        logging.info(\"Error has occured during the execution of the program\")\n",
    "        logging.execution(str(e))\n",
    "\n",
    "try:\n",
    "    height = 172\n",
    "    weight = 76.6\n",
    "    print(\"Body mass indexof the given values is\",bodymassindex(weight,height))\n",
    "except Exception as e:\n",
    "    print(\"Error has happened, please check the log file for more information\")\n",
    "    logging.info(\"Error has happened during the execution of the program\")\n",
    "    logging.execution(str(e))\n"
   ]
  },
  {
   "cell_type": "code",
   "execution_count": 21,
   "metadata": {},
   "outputs": [
    {
     "name": "stdout",
     "output_type": "stream",
     "text": [
      "Log of the given values is 2.8903717578961645\n"
     ]
    }
   ],
   "source": [
    "#4.\tWrite a Python Program to calculate the natural logarithm of any number?\n",
    "import math\n",
    "def logc(n):\n",
    "    '''This function takes the input number and return the log of that number'''\n",
    "    try:\n",
    "        logging.info(\"This is the start of the function logc\")\n",
    "        \n",
    "        logging.info(\"Function logc has successfully completed\")\n",
    "        return math.log(n)\n",
    "    except Exception as e:\n",
    "        print(\"Error has occured, please check the log file for more information\")\n",
    "        logging.info(\"Error has occured during the execution of the program\")\n",
    "        logging.execution(str(e))\n",
    "\n",
    "try:\n",
    "    n = 18\n",
    "    print(\"Log of the given values is\",logc(n))\n",
    "except Exception as e:\n",
    "    print(\"Error has happened, please check the log file for more information\")\n",
    "    logging.info(\"Error has happened during the execution of the program\")\n",
    "    logging.execution(str(e))"
   ]
  },
  {
   "cell_type": "code",
   "execution_count": 25,
   "metadata": {},
   "outputs": [
    {
     "name": "stdout",
     "output_type": "stream",
     "text": [
      "Cubesum  of the given values is 225\n"
     ]
    }
   ],
   "source": [
    "# 5.\tWrite a Python Program for cube sum of first n natural numbers?\n",
    "def cubesum(n):\n",
    "    '''This function takes the input number and return the cube sum of n natural number'''\n",
    "    try:\n",
    "        logging.info(\"This is the start of the function cubesum\")\n",
    "        if(n==1):\n",
    "            return 1\n",
    "        return ((n**3)+ cubesum(n-1))   \n",
    "    except Exception as e:\n",
    "        print(\"Error has occured, please check the log file for more information\")\n",
    "        logging.info(\"Error has occured during the execution of the program\")\n",
    "        logging.exception(str(e))\n",
    "\n",
    "try:\n",
    "    n = 5\n",
    "    print(\"Cubesum  of the given values is\",cubesum(n))\n",
    "except Exception as e:\n",
    "    print(\"Error has happened, please check the log file for more information\")\n",
    "    logging.info(\"Error has happened during the execution of the program\")\n",
    "    logging.execution(str(e))\n"
   ]
  },
  {
   "cell_type": "code",
   "execution_count": null,
   "metadata": {},
   "outputs": [],
   "source": []
  }
 ],
 "metadata": {
  "kernelspec": {
   "display_name": "Python 3",
   "language": "python",
   "name": "python3"
  },
  "language_info": {
   "codemirror_mode": {
    "name": "ipython",
    "version": 3
   },
   "file_extension": ".py",
   "mimetype": "text/x-python",
   "name": "python",
   "nbconvert_exporter": "python",
   "pygments_lexer": "ipython3",
   "version": "3.7.4"
  }
 },
 "nbformat": 4,
 "nbformat_minor": 2
}
