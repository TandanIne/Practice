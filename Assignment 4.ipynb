{
 "cells": [
  {
   "cell_type": "code",
   "execution_count": 1,
   "metadata": {},
   "outputs": [],
   "source": [
    "import logging\n",
    "logging.basicConfig(filename=\"Assignment4.log\",level=logging.DEBUG,format=\"%(asctime)s %(levelname)s %(message)s\")\n"
   ]
  },
  {
   "cell_type": "code",
   "execution_count": 8,
   "metadata": {},
   "outputs": [
    {
     "name": "stdout",
     "output_type": "stream",
     "text": [
      "1 2 4 5 8 10 16 20 25 40 50 80 100 125 200 250 400 500 625 1000 1250 2000 2500 5000 Wall time: 2 ms\n"
     ]
    }
   ],
   "source": [
    "%%time\n",
    "#1.\tWrite a Python Program to Find the Factorial of a Number?\n",
    "def fact(n):\n",
    "    '''This function calculates the factorial of the number'''\n",
    "    try:\n",
    "        logging.info(\"This is the start of the function fact()\")\n",
    "        \n",
    "        for i in range(1,n):\n",
    "            if(n%i == 0):\n",
    "                yield(i)\n",
    "        logging.info(\"Function has successfully executed\")\n",
    "    except Exception as e:\n",
    "        print(\"Error has happened during the execution, please check the log message for more information\")\n",
    "        logging.error(\"Error has occured during the execution\")\n",
    "        logging.exception(str(e))\n",
    "\n",
    "n= 10000\n",
    "for i in fact(n):\n",
    "    print(i,end=\" \")"
   ]
  },
  {
   "cell_type": "code",
   "execution_count": 9,
   "metadata": {},
   "outputs": [
    {
     "name": "stdout",
     "output_type": "stream",
     "text": [
      "Multiplication of Table of 23 \n",
      "1 X 23 = 23\n",
      "1 X 23 = 46\n",
      "1 X 23 = 69\n",
      "1 X 23 = 92\n",
      "1 X 23 = 115\n",
      "1 X 23 = 138\n",
      "1 X 23 = 161\n",
      "1 X 23 = 184\n",
      "1 X 23 = 207\n",
      "1 X 23 = 230\n"
     ]
    }
   ],
   "source": [
    "#2.\tWrite a Python Program to Display the multiplication Table?\n",
    "def mul_tab(n):\n",
    "    ''' This function calculates the multiplication table and return the number one by one'''\n",
    "    try:\n",
    "        logging.info(\"This is the start of the program\")\n",
    "        for i in range(1,11):\n",
    "            yield(i*n)\n",
    "        logging.info(\"Function has successfully completed\")\n",
    "    except Exception as e:\n",
    "        print(\"Error has occured during the exception,Please check the log message for more information\")\n",
    "        logging.error(\"Error has occured during the execution\")\n",
    "        logging.exception(str(e))\n",
    "\n",
    "n=23\n",
    "print(\"Multiplication of Table of %s \"%n)\n",
    "count = 1\n",
    "for i in mul_tab(n):\n",
    "    print(\"%s X %s = %s\"%(count,n,i))"
   ]
  },
  {
   "cell_type": "code",
   "execution_count": 10,
   "metadata": {},
   "outputs": [
    {
     "name": "stdout",
     "output_type": "stream",
     "text": [
      "0\n",
      "1\n",
      "1\n",
      "2\n",
      "3\n",
      "5\n",
      "8\n",
      "13\n",
      "21\n",
      "34\n"
     ]
    }
   ],
   "source": [
    "#3.\tWrite a Python Program to Print the Fibonacci sequence?\n",
    "\n",
    "def fibbo(n):\n",
    "    '''This function calcultes the fibonacci series'''\n",
    "    try:\n",
    "        logging.info(\"This is the start of the function fibbo()\")\n",
    "        a = 0\n",
    "        b=1\n",
    "        for i in range(n):\n",
    "            yield(a,b)\n",
    "            a ,b = b,a+b\n",
    "        logging.info(\"Function has completed successfully\")\n",
    "    except Exception as e:\n",
    "        print(\"Error has occured, please check the log file for more informatino\")\n",
    "        logging.error(\"Error has occured during the execution\")\n",
    "        logging.exception(str(e))\n",
    "\n",
    "n = 10\n",
    "for i in fibbo(n):\n",
    "    print(i[0])"
   ]
  },
  {
   "cell_type": "code",
   "execution_count": 11,
   "metadata": {},
   "outputs": [
    {
     "name": "stdout",
     "output_type": "stream",
     "text": [
      "407 is Armstrong\n"
     ]
    }
   ],
   "source": [
    "#4.\tWrite a Python Program to Check Armstrong Number?\n",
    "def IsArmstrong(n):\n",
    "    '''This function checks whether the word is armstrong or not'''\n",
    "    try:\n",
    "        logging.info(\"This is the start of the IsArmstron function\")\n",
    "        local_num = 0\n",
    "        local = n\n",
    "        while(local > 0):\n",
    "            \n",
    "            local_num = (local%10)**3 +local_num\n",
    "            \n",
    "            local = int(local/10)\n",
    "        if(  local_num  == n ):\n",
    "            logging.info(\"Function has executed successfully\")\n",
    "            return(\"Armstrong\")\n",
    "        else:\n",
    "            logging.info(\"Function has executed successfully\")\n",
    "            return(\"Not Armstrong\")\n",
    "    except Exception as e:\n",
    "        print(\"Error has occured during the execution, Please check the log file for more information\")\n",
    "        logging.error(\"Error has occured during the execution\")\n",
    "        logging.execution(str(e))\n",
    "n=407\n",
    "print(\"%s is %s\"%(n,IsArmstrong(n)))"
   ]
  },
  {
   "cell_type": "code",
   "execution_count": 12,
   "metadata": {},
   "outputs": [
    {
     "name": "stdout",
     "output_type": "stream",
     "text": [
      "153 is Armstrong Number \n",
      "370 is Armstrong Number \n",
      "371 is Armstrong Number \n",
      "407 is Armstrong Number \n"
     ]
    }
   ],
   "source": [
    "#5.\tWrite a Python Program to Find Armstrong Number in an Interval?\n",
    "try:\n",
    "    logging.info(\"This is the start of the program for the question - 5\")\n",
    "    lower = 5\n",
    "    upper = 500\n",
    "    for i in range(lower,upper):\n",
    "        if(IsArmstrong(i) == \"Armstrong\"):\n",
    "            print(\"%s is Armstrong Number \"%i)\n",
    "    logging.info(\"This is the successfull exection of the question 5\")\n",
    "except Exception as e:\n",
    "    print(\"Error has occured during the execution\")\n",
    "    logging.error(\"Error has occured during the execution\")\n",
    "    logging.exception(str(e))"
   ]
  },
  {
   "cell_type": "code",
   "execution_count": 13,
   "metadata": {},
   "outputs": [
    {
     "name": "stdout",
     "output_type": "stream",
     "text": [
      "Sum of 10 natural number is 45\n"
     ]
    }
   ],
   "source": [
    "#6.\tWrite a Python Program to Find the Sum of Natural Numbers?\n",
    "def sum_natural(n):\n",
    "    '''This function returns the sum of the natural number'''\n",
    "    try:\n",
    "        logging.info(\"This is the start of the function sum_natural()\")\n",
    "        s =0\n",
    "        for i in range(n):\n",
    "            s =s + i\n",
    "        logging.info(\"Program has successfully completed\")\n",
    "        return s\n",
    "    except Exception as e:\n",
    "        print(\"Error has occured during the execution \")\n",
    "        logging.error(\"Error has occured during the execution\")\n",
    "        logging.exception(str(e))\n",
    "\n",
    "n=10        \n",
    "print(\"Sum of %s natural number is %s\"%(n,sum_natural(n)))"
   ]
  },
  {
   "cell_type": "code",
   "execution_count": null,
   "metadata": {},
   "outputs": [],
   "source": []
  }
 ],
 "metadata": {
  "kernelspec": {
   "display_name": "Python 3",
   "language": "python",
   "name": "python3"
  },
  "language_info": {
   "codemirror_mode": {
    "name": "ipython",
    "version": 3
   },
   "file_extension": ".py",
   "mimetype": "text/x-python",
   "name": "python",
   "nbconvert_exporter": "python",
   "pygments_lexer": "ipython3",
   "version": "3.7.4"
  }
 },
 "nbformat": 4,
 "nbformat_minor": 2
}
