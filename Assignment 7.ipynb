{
 "cells": [
  {
   "cell_type": "code",
   "execution_count": null,
   "metadata": {},
   "outputs": [],
   "source": [
    "\t1.\tWrite a Python Program to find sum of array?\n",
    "\t2.\tWrite a Python Program to find largest element in an array?\n",
    "\t3.\tWrite a Python Program for array rotation?\n",
    "\t4.\tWrite a Python Program to Split the array and add the first part to the end?\n",
    "5 Write a Python Program to check if given array is Monotonic?"
   ]
  },
  {
   "cell_type": "code",
   "execution_count": 2,
   "metadata": {},
   "outputs": [],
   "source": [
    "import logging\n",
    "logging.basicConfig(filename =\"Assidnment 7.log\",level=logging.DEBUG,format=\"%(asctime)s %(levelname)s %(message)s\")"
   ]
  },
  {
   "cell_type": "code",
   "execution_count": 3,
   "metadata": {},
   "outputs": [
    {
     "name": "stdout",
     "output_type": "stream",
     "text": [
      "Sum of the array is  81\n"
     ]
    }
   ],
   "source": [
    "# 1.\tWrite a Python Program to find sum of array?\n",
    "def Array_sum(n):\n",
    "    '''This function returns the sum of the array'''\n",
    "    try :\n",
    "        logging.info(\"This is the starting of function Array_sum\")\n",
    "        sum1 = 0\n",
    "        for val in n:\n",
    "            sum1 = sum1 + int(val)\n",
    "        logging.info(\"This is the successfull completation of function message \")\n",
    "        return sum1\n",
    "    except Exception as e:\n",
    "        print(\"Error has occured,Please check log for more messages\")\n",
    "        logging.info(\"Error has occured\")\n",
    "        logging.exception(str(e))\n",
    "        \n",
    "n = [10,20,1,20,30]\n",
    "try:\n",
    "    print(\"Sum of the array is \",Array_sum(n))\n",
    "except Exception as e:\n",
    "    print(\"Error has occured, Please check the log file for more information\")\n",
    "    logging.error(\"Error has occured\")\n",
    "    logging.exception(str(e))"
   ]
  },
  {
   "cell_type": "code",
   "execution_count": 4,
   "metadata": {},
   "outputs": [
    {
     "name": "stdout",
     "output_type": "stream",
     "text": [
      "Sum of the array is  30\n"
     ]
    }
   ],
   "source": [
    "#2.\tWrite a Python Program to find largest element in an array?\n",
    "def Max_num(n):\n",
    "    '''This function returns the max value in the  array'''\n",
    "    try :\n",
    "        logging.info(\"This is the starting of function Max_num\")\n",
    "        max_n = 0\n",
    "        for val in n:\n",
    "            if(max_n < int(val)):\n",
    "                max_n = val\n",
    "            \n",
    "        logging.info(\"This is the successfull completation of function message \")\n",
    "        return max_n\n",
    "    except Exception as e:\n",
    "        print(\"Error has occured,Please check log for more messages\")\n",
    "        logging.info(\"Error has occured\")\n",
    "        logging.exception(str(e))\n",
    "        \n",
    "n = [10,20,1,20,30]\n",
    "try:\n",
    "    print(\"Sum of the array is \",Max_num(n))\n",
    "except Exception as e:\n",
    "    print(\"Error has occured, Please check the log file for more information\")\n",
    "    logging.error(\"Error has occured\")\n",
    "    logging.exception(str(e))"
   ]
  },
  {
   "cell_type": "code",
   "execution_count": 16,
   "metadata": {},
   "outputs": [
    {
     "name": "stdout",
     "output_type": "stream",
     "text": [
      "Rotated array is  [20, 30, 10, 20, 1]\n"
     ]
    }
   ],
   "source": [
    "#3.\tWrite a Python Program for array rotation?\n",
    "def array_rot(n,r):\n",
    "    '''This function returns the rotated array by the given position'''\n",
    "    try :\n",
    "        logging.info(\"This is the starting of function array_rot\")\n",
    "        if(r < 0):\n",
    "            r = len(n)+r\n",
    "        lst =[]\n",
    "        for i in range(r,len(n)):\n",
    "            lst.append(n[i])\n",
    "        \n",
    "        for i in range(r):\n",
    "            lst.append(n[i])\n",
    "            \n",
    "        logging.info(\"This is the successfull completation of function message \")\n",
    "        return lst\n",
    "    except Exception as e:\n",
    "        print(\"Error has occured,Please check log for more messages\")\n",
    "        logging.info(\"Error has occured\")\n",
    "        logging.exception(str(e))\n",
    "        \n",
    "n = [10,20,1,20,30]\n",
    "r = -2\n",
    "try:\n",
    "    print(\"Rotated array is \",array_rot(n,r))\n",
    "except Exception as e:\n",
    "    print(\"Error has occured, Please check the log file for more information\")\n",
    "    logging.error(\"Error has occured\")\n",
    "    logging.exception(str(e))"
   ]
  },
  {
   "cell_type": "code",
   "execution_count": 18,
   "metadata": {},
   "outputs": [
    {
     "name": "stdout",
     "output_type": "stream",
     "text": [
      "Splitted array is  [1, 20, 30, 10, 20]\n"
     ]
    }
   ],
   "source": [
    "# 4.\tWrite a Python Program to Split the array and add the first part to the end?\n",
    "def split_array(n,r):\n",
    "    '''This function returns the splitted array by given position '''\n",
    "    try :\n",
    "        logging.info(\"This is the starting of function split_array\")\n",
    "        if(r < 0):\n",
    "            r = len(n)+r\n",
    "        lst =[]\n",
    "        for i in range(r,len(n)):\n",
    "            lst.append(n[i])\n",
    "        \n",
    "        for i in range(r):\n",
    "            lst.append(n[i])\n",
    "            \n",
    "        logging.info(\"This is the successfull completation of function message \")\n",
    "        return lst\n",
    "    except Exception as e:\n",
    "        print(\"Error has occured,Please check log for more messages\")\n",
    "        logging.info(\"Error has occured\")\n",
    "        logging.exception(str(e))\n",
    "        \n",
    "n = [10,20,1,20,30]\n",
    "r = 2\n",
    "try:\n",
    "    print(\"Splitted array is \",split_array(n,r))\n",
    "except Exception as e:\n",
    "    print(\"Error has occured, Please check the log file for more information\")\n",
    "    logging.error(\"Error has occured\")\n",
    "    logging.exception(str(e))"
   ]
  },
  {
   "cell_type": "code",
   "execution_count": 21,
   "metadata": {},
   "outputs": [
    {
     "name": "stdout",
     "output_type": "stream",
     "text": [
      "Given array is  Monotonic\n"
     ]
    }
   ],
   "source": [
    "# 5 Write a Python Program to check if given array is Monotonic?\n",
    "def Monotonic_aray(n):\n",
    "    '''This function returns the splitted array by given position '''\n",
    "    try :\n",
    "        logging.info(\"This is the starting of function Monotonic_aray\")\n",
    "        count =0\n",
    "        for i in range(len(n)-1):\n",
    "            if(n[i] > n[i+1]):\n",
    "                return \"Not Monotonic\"\n",
    "        return \"Monotonic\"\n",
    "    except Exception as e:\n",
    "        print(\"Error has occured,Please check log for more messages\")\n",
    "        logging.info(\"Error has occured\")\n",
    "        logging.exception(str(e))\n",
    "        \n",
    "n = [10,20,30]\n",
    "\n",
    "try:\n",
    "    print(\"Given array is \",Monotonic_aray(n))\n",
    "except Exception as e:\n",
    "    print(\"Error has occured, Please check the log file for more information\")\n",
    "    logging.error(\"Error has occured\")\n",
    "    logging.exception(str(e))\n"
   ]
  },
  {
   "cell_type": "code",
   "execution_count": null,
   "metadata": {},
   "outputs": [],
   "source": []
  }
 ],
 "metadata": {
  "kernelspec": {
   "display_name": "Python 3",
   "language": "python",
   "name": "python3"
  },
  "language_info": {
   "codemirror_mode": {
    "name": "ipython",
    "version": 3
   },
   "file_extension": ".py",
   "mimetype": "text/x-python",
   "name": "python",
   "nbconvert_exporter": "python",
   "pygments_lexer": "ipython3",
   "version": "3.7.4"
  }
 },
 "nbformat": 4,
 "nbformat_minor": 2
}
