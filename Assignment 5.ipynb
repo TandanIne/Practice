{
 "cells": [
  {
   "cell_type": "code",
   "execution_count": 1,
   "metadata": {},
   "outputs": [],
   "source": [
    "import logging\n",
    "logging.basicConfig(filename=\"Assignment5.log\",level=logging.DEBUG,format=\"%(asctime)s %(levelname)s %(message)s\")"
   ]
  },
  {
   "cell_type": "code",
   "execution_count": 2,
   "metadata": {},
   "outputs": [
    {
     "name": "stdout",
     "output_type": "stream",
     "text": [
      "LCM of 56 and 9 is 504.0\n"
     ]
    }
   ],
   "source": [
    "# 1.\tWrite a Python Program to Find LCM?\n",
    "\n",
    "        \n",
    "def gcd(m,n):\n",
    "    '''This function retturns the gcd'''\n",
    "    try:\n",
    "        logging.info(\"This is the start of the function gcd()\")\n",
    "        if(m == 0):\n",
    "            return n\n",
    "        return gcd(n%m , m)\n",
    "    except exception as e:\n",
    "        print(\"Error has encountered please check the log file for more information\")\n",
    "        logging.error(\"GCD function has encountered error\")\n",
    "        logging.exception(str(e))\n",
    "        \n",
    "def LCM(m,n):\n",
    "    ''' This function return the LCM of the number'''\n",
    "    try:\n",
    "        logging.info(\"This is the start of the function LCM\")\n",
    "        LCM = (m / gcd(m,n))* n\n",
    "        return (LCM)\n",
    "    except Exception as e:\n",
    "        print(\"Error has occured, please check the log message for more information\")\n",
    "        logging.error(\"Error has occured\")\n",
    "        logging.exception(str(e))\n",
    "\n",
    "m=56\n",
    "n=9\n",
    "print(\"LCM of %s and %s is %s\"%(m,n,LCM(m,n)))\n",
    "            \n",
    "        \n",
    "                \n",
    "            \n",
    "        \n",
    "        "
   ]
  },
  {
   "cell_type": "code",
   "execution_count": 3,
   "metadata": {},
   "outputs": [
    {
     "name": "stdout",
     "output_type": "stream",
     "text": [
      "The HCF of 9 and 19 is 1\n"
     ]
    }
   ],
   "source": [
    "#2.\tWrite a Python Program to Find HCF?\n",
    "def hcf(m,n):\n",
    "    '''This function retturns the gcd'''\n",
    "    try:\n",
    "        logging.info(\"This is the start of the function gcd()\")\n",
    "        if(m == 0):\n",
    "            return n\n",
    "        return gcd(n%m , m)\n",
    "    except exception as e:\n",
    "        print(\"Error has encountered please check the log file for more information\")\n",
    "        logging.error(\"GCD function has encountered error\")\n",
    "        logging.exception(str(e))\n",
    "\n",
    "m=9\n",
    "n=19\n",
    "print(\"The HCF of %s and %s is %s\"%(m,n,hcf(m,n)))\n",
    "\n",
    "    "
   ]
  },
  {
   "cell_type": "code",
   "execution_count": 4,
   "metadata": {},
   "outputs": [
    {
     "name": "stdout",
     "output_type": "stream",
     "text": [
      "Binary value of the given numer 119 is [1, 1, 1, 0, 1, 1, 1] \n",
      "Octal value of the given numer 119 is [1, 6, 7] \n",
      "Hexadecimal value of the given numer 119 is ['7', '7'] \n"
     ]
    }
   ],
   "source": [
    "#3.\tWrite a Python Program to Convert Decimal to Binary, Octal and Hexadecimal?\n",
    "logging.disabled = False\n",
    "def Binary(m):\n",
    "    '''This function converts the decimal number to binary'''\n",
    "    try:\n",
    "        logging.info(\"This is the start of the function Binary()\")\n",
    "        number = m\n",
    "        lst =[]\n",
    "        while(number > 0):\n",
    "            lst.append(number%2)\n",
    "            number= int(number/2)\n",
    "        lst = lst[::-1]\n",
    "        return lst\n",
    "    except Exception as e:\n",
    "        print(\"Error encountered during the execution of the program, PLease check the log message for more information\")\n",
    "        logging.error(\"Binary function has encountered error\")\n",
    "        logging.exception(str(e))\n",
    "        \n",
    "def Octal(m):\n",
    "    '''This function converts the decimal number to octal'''\n",
    "    try:\n",
    "        logging.info(\"This is the start of the function octal()\")\n",
    "        number = m\n",
    "        lst =[]\n",
    "        while(number > 0):\n",
    "            lst.append(number%8)\n",
    "            number= int(number/8)\n",
    "        \n",
    "        lst = lst[::-1]\n",
    "        return lst\n",
    "    except Exception as e:\n",
    "        print(\"Error encountered during the execution of the program, PLease check the log message for more information\")\n",
    "        logging.error(\"octal function has encountered error\")\n",
    "        logging.exception(str(e))\n",
    "\n",
    "def Hexadecimal(m):\n",
    "    '''This function converts the decimal number to Hexadecimal'''\n",
    "    try:\n",
    "        logging.info(\"This is the start of the function Hexadecimal()\")\n",
    "        conversion_table = {0: '0', 1: '1', 2: '2', 3: '3', 4: '4',\n",
    "                    5: '5', 6: '6', 7: '7',\n",
    "                    8: '8', 9: '9', 10: 'A', 11: 'B', 12: 'C',\n",
    "                    13: 'D', 14: 'E', 15: 'F'}\n",
    "        number = m\n",
    "        lst = []\n",
    "        while(number > 0):\n",
    "            lst.append(conversion_table[number%16])\n",
    "            number= int(number/16)\n",
    "        \n",
    "        lst = lst[::-1]\n",
    "        return lst \n",
    "    \n",
    "    except Exception as e:\n",
    "        print(\"Error encountered during the execution of the program, PLease check the log message for more information\")\n",
    "        logging.error(\"Hexadecimal function has encountered error\")\n",
    "        logging.exception(str(e))\n",
    "\n",
    "n= 119\n",
    "print(\"Binary value of the given numer %s is %s \"%(n,Binary(n)))\n",
    "print(\"Octal value of the given numer %s is %s \"%(n,Octal(n)))\n",
    "print(\"Hexadecimal value of the given numer %s is %s \"%(n,Hexadecimal(n)))        "
   ]
  },
  {
   "cell_type": "code",
   "execution_count": 5,
   "metadata": {},
   "outputs": [
    {
     "name": "stdout",
     "output_type": "stream",
     "text": [
      "The ascii value of the given character is  68\n"
     ]
    }
   ],
   "source": [
    "#4.\tWrite a Python Program To Find ASCII value of a character?\n",
    "def Asciiv(s):\n",
    "    '''This function will return the ascii value of the given character'''\n",
    "    try:\n",
    "        logging.info(\"This is the start of the function Asciiv\")\n",
    "        return(ord(s))\n",
    "    except Exception as e:\n",
    "        print(\"Error encountered during the execution of the program, PLease check the log message for more information\")\n",
    "        logging.error(\"Asciiv function has encountered error\")\n",
    "        logging.exception(str(e))\n",
    "        \n",
    "c ='D'\n",
    "print(\"The ascii value of the given character is \",Asciiv(c))"
   ]
  },
  {
   "cell_type": "code",
   "execution_count": 6,
   "metadata": {},
   "outputs": [
    {
     "name": "stdout",
     "output_type": "stream",
     "text": [
      "Enter the first number34\n",
      "Enter the second number67\n",
      "Enter the 1- Addition, 2- Subtract , 3- Multiplication , 4 - Division 4\n",
      "Division of two number is  0.5074626865671642\n"
     ]
    }
   ],
   "source": [
    "# 5. Write a Python Program to Make a Simple Calculator with 4 basic mathematical operations?\n",
    "def Addition(m,n):\n",
    "    '''This function takes the input of two numbers and returns their sum'''\n",
    "    try:\n",
    "        logging.info(\"This is the start of the function Addition\")\n",
    "        return(m+n)\n",
    "    except Exception as e:\n",
    "        print(\"Error encountered during the execution of Addition, PLease check the log message for more information\")\n",
    "        logging.error(\"Addition function Encountered error\")\n",
    "        logging.exception(str(e))\n",
    "    \n",
    "def Subtract(m,n):\n",
    "    '''This function takes the input of two numbers and returns their Subtract'''\n",
    "    try:\n",
    "        logging.info(\"This is the start of the function Subtract\")\n",
    "        return(m-n)\n",
    "    except Exception as e:\n",
    "        print(\"Error encountered during the execution of Subtract, PLease check the log message for more information\")\n",
    "        logging.error(\"Subtract function Encountered error\")\n",
    "        logging.exception(str(e))\n",
    "\n",
    "def Multiplication(m,n):\n",
    "    '''This function takes the input of two numbers and returns their Multiplication'''\n",
    "    try:\n",
    "        logging.info(\"This is the start of the function Multiplication\")\n",
    "        return(m*n)\n",
    "    except Exception as e:\n",
    "        print(\"Error encountered during the execution of Multiplication, PLease check the log message for more information\")\n",
    "        logging.error(\"Multiplication function Encountered error\")\n",
    "        logging.exception(str(e))\n",
    "\n",
    "def Division(m,n):\n",
    "    '''This function takes the input of two numbers and returns their Division'''\n",
    "    try:\n",
    "        logging.info(\"This is the start of the function Division\")\n",
    "        return(m/n)\n",
    "    except Exception as e:\n",
    "        print(\"Error encountered during the execution of Division, PLease check the log message for more information\")\n",
    "        logging.error(\"Division function Encountered error\")\n",
    "        logging.exception(str(e))\n",
    "try:\n",
    "    \n",
    "    num1 = int(input(\"Enter the first number\"))\n",
    "    num2 = int(input(\"Enter the second number\"))\n",
    "    oper = int(input(\"Enter the 1- Addition, 2- Subtract , 3- Multiplication , 4 - Division \"))\n",
    "    if(oper ==1):\n",
    "        print(\"Additon of the given two numbers is \",Addition(num1,num2))\n",
    "    elif(oper==2):\n",
    "        print(\"Subtraction of two number is \",Subtract(num1,num2))\n",
    "    elif(oper==3):\n",
    "        print(\"Multiplication of two number is \",Multiplication(num1,num2))\n",
    "    elif(oper ==4):\n",
    "        print(\"Division of two number is \",Division(num1,num2))\n",
    "    else:\n",
    "        print(\"There is no such option as \",oper)\n",
    "except Exception as e:\n",
    "    print(\"Error has encountered, PLease check log message for more information\")\n",
    "    logging.error(\"Program has encountered error\")\n",
    "    logging.exception(str(e))\n",
    "    "
   ]
  },
  {
   "cell_type": "code",
   "execution_count": null,
   "metadata": {},
   "outputs": [],
   "source": []
  }
 ],
 "metadata": {
  "kernelspec": {
   "display_name": "Python 3",
   "language": "python",
   "name": "python3"
  },
  "language_info": {
   "codemirror_mode": {
    "name": "ipython",
    "version": 3
   },
   "file_extension": ".py",
   "mimetype": "text/x-python",
   "name": "python",
   "nbconvert_exporter": "python",
   "pygments_lexer": "ipython3",
   "version": "3.7.4"
  }
 },
 "nbformat": 4,
 "nbformat_minor": 2
}
